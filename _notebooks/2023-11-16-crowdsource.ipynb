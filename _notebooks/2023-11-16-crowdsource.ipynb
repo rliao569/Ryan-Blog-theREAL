{
 "cells": [
  {
   "cell_type": "markdown",
   "metadata": {},
   "source": [
    "---\n",
    "layout: post\n",
    "title: crowdsourcing \n",
    "description: j\n",
    "toc: true\n",
    "comments: true\n",
    "categories: [5.A, C4.1]\n",
    "courses: { csse: {week: 8}, csp: {week: 16, categories: [6.B]}, csa: {week: 9} }\n",
    "type: hacks\n",
    "---"
   ]
  },
  {
   "cell_type": "markdown",
   "metadata": {},
   "source": [
    "### Crowdsourcing\n",
    "Crowdsourcing is the action of acquirring work and information from a large group of people via the internet. This information can be obtained from social media and other forms of media throughout the internet. Crowdsourcing allows companies to work with people throughout the world and aquire a variety of different skills. \n",
    "![crowdsourcing image](https://www.investopedia.com/thmb/-csD4ERbU65LWGDvuXuPvUV8cUY=/1500x0/filters:no_upscale():max_bytes(150000):strip_icc()/crowdsourcing.asp-final-7a1d5dcc4f3b45c38c0a5050354f66f4.png)\n",
    "\n",
    "# variations of crowdsourcing\n",
    "Idea Generation: Seeking ideas and suggestions from the crowd to solve a problem or improve a product.\n",
    "\n",
    "Microtasks: Breaking down a large task into smaller, manageable microtasks that can be distributed to a crowd.\n",
    "\n",
    "Funding: Crowdfunding platforms, where a crowd financially supports projects, products, or causes.\n",
    "\n",
    "ata Collection: Gathering and analyzing data through contributions from a large number of individuals.\n",
    "\n",
    "Open Innovation: Involving external contributors in the innovation process of a company.\n",
    "\n",
    "# benefits of crowdsourcing\n",
    "Crowdsourcing is cost efficent because it allows access to talented workers without the need for a traditional workforce. Also, projects and work can be completed in a lesser amount of time due to the many contributors. Finally, the diversity of contributors can lead to innovative ideas and solutions that may have not emerged in a traditional setting. \n",
    "\n",
    "# Example of crowdsourcing\n",
    " A well-known example of crowdsourcing is the website Wikipedia. Wikipedia is an online encyclopedia where anybody can contribute and add information onto the site. \n",
    "\n",
    "# drawbacks of crowdsourcing\n",
    "There might be complications when crowdsourcing such as difficulties in confidentiality and communication between the groups involved. There is also a slight chance of receiving low quality work if a collaborater misunderstands the project's requirements.\n",
    "## Popcorn Hack  \n",
    "How can organizations optimize crowdsoucing while minimizing the drawbacks?\n"
   ]
  },
  {
   "cell_type": "markdown",
   "metadata": {},
   "source": [
    "## Citizen Science  \n",
    "- Citizen Science is scientific research that the general population helps to conduct. Ordinary citizens, often non-scientists, help contribute data to research projects using computing devices.\n",
    "- Gives a wide range of people the ability to contribute to scientific studies which provides more diverse data.\n",
    "### Popcorn Hack  \n",
    "How do you believe participating in a citizen science project could enhance both scientific research and public engagement, and can you share any specific areas of scientific study where citizen science might make a significant impact in the future?"
   ]
  },
  {
   "cell_type": "markdown",
   "metadata": {},
   "source": [
    "# Homework\n",
    "## Question 1  \n",
    "Explain the concept of crowdsourcing. Provide examples of how it is commonly used in different fields.\n",
    "\n",
    "Crowdsourcing is when different people or groups decide to collaborate on one project. A great example of this is wikipedia, as anyone with an account can contribute to a page on wikipedia. Also, crowdsourcing is used in practically every field of STEM to aquire a wide array of opinions and information to help make a hypothesis. \n",
    "## Question 2  \n",
    "Discuss the benefits and challenges associated with crowdsourcing. How can organizations effectively harness the power of crowdsourcing while mitigating potential drawbacks?\n",
    "\n",
    "Organizations can fully utilize the power of crowdsourcing by listening to constructive criticism from outside sources. They can mitigate potential drawbacks by forming an unbiased, general trend, rather than listen to one completely radical opinion and following through with those ideas.\n",
    "## Question 3  \n",
    "Identify a real-world example of a successful crowdsourcing project. Explain the project, its goals, and the positive outcomes achieved through the collaboration of a large group of people.\n",
    "\n",
    "As explained earlier, Wikipedia is a place where you can search and learn basically anything, and you can read about the definition, origin, history, and even fun facts about anything. People with exceptional knowledge in specific fields have contributed to Wikipedia, resulting in the Wikipedia we all know today. I would consider it very successful; it's like an alternate google. The main problem is that anyone with a wikipedia account can make changes to a page, and people could commit tomfoolery and spread disinformation about certain topics if they felt like it. \n",
    "### Question 4\n",
    "Create a hypothetical scenario where crowdsourcing could be applied to solve a specific problem. Describe the problem, the type of contributions you would seek from the crowd, and the potential impact of implementing the crowdsourced solution.\n",
    "\n",
    "Hypothetical scenario: City (X) does not like its currency system. How can we fix it for the general public's satisfaction?\n",
    "\n",
    "Here are some advices: \n",
    "\n",
    "- How do other successful countries tackle currency and how does their system work?\n",
    "- Let's form a general consensus that consists of the opinions and ideas from our city\n",
    "- In our next election, we can make yes/no propositions for certain changes to this system."
   ]
  }
 ],
 "metadata": {
  "language_info": {
   "name": "python"
  }
 },
 "nbformat": 4,
 "nbformat_minor": 2
}
