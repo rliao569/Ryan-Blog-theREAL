{
 "cells": [
  {
   "cell_type": "markdown",
   "metadata": {},
   "source": [
    "---\n",
    "toc: true\n",
    "comments: true\n",
    "layout: post\n",
    "title: Team Teach Review Ticket \n",
    "type: tangibles\n",
    "courses: { csp: {week: 16} }\n",
    "---"
   ]
  },
  {
   "cell_type": "markdown",
   "metadata": {},
   "source": [
    "\n",
    "# Team Teach Chart\n",
    "\n",
    "| ------- | Score, Grader Eval | Extras | Key Indicators |\n",
    "| -------  | ------- |  ------- | -------- |\n",
    "| The Internet |  .93 Provides a Few Examples Aidan L | Provided more in depth examples | https://rliao569.github.io/Ryan-Blog-theREAL//5.a/c4.1/2023/11/27/internet_IPYNB_2_.html |\n",
    "| Beneficial and Harmful Effects | .91 great explanations could have gone slightly more in depth Tarun T | did the bonus question | https://rliao569.github.io/Ryan-Blog-theREAL//5.a/c4.1/2023/11/16/Beneficial-and-Harmful-Effect_IPYNB_2_.html |\n",
    "| Digital Divide | .93 detailed Eshaan K | Provided more in depth examples | https://rliao569.github.io/Ryan-Blog-theREAL//5.a/c4.1/2023/12/07/Digitaldivide_IPYNB_2_.html |\n",
    "Computing Bias | .98 All questions answered with detail and good examples Isabelle P | Provided more in depth examples | https://rliao569.github.io/Ryan-Blog-theREAL//5.a/c4.1/2023/12/12/Computing-Bias_IPYNB_2_.html |\n",
    "| Crowdsourcing | .93 Work is original and detailed Anthony Y | Q4 I provided examples how to fix issue | https://rliao569.github.io/Ryan-Blog-theREAL//5.a/c4.1/2023/11/16/crowdsource_IPYNB_2_.html |\n",
    "|Legal Ethical Concerns |  .95 Kahoot Quiz Curve, 2nd Place Jayden C | Got 2nd place on kahoot quiz, did not need to retake | https://rliao569.github.io/Ryan-Blog-theREAL//5.a/c4.1/2023/11/29/LegalEthcial_IPYNB_2_.html |\n",
    "| Safe Computing | .9 Late Abby A. | N | https://rliao569.github.io/Ryan-Blog-theREAL//5.a/c4.1/2023/12/21/Safe_Computing_IPYNB_2_.html |\n",
    "| CB Quiz |  57/67 | N | https://rliao569.github.io/Ryan-Blog-theREAL//5.a/c4.1/2023/12/22/mcqpractice2_IPYNB_2_.html |\n",
    "\n",
    "| ----- | Totals\t| Median Score:\t | Number complete:\t | Extra effort count:  |\tKey tangible assets count: |\n",
    "| ---- | ----- | ----- | ----- | ------ | ----- | \n",
    "| ---- | a | .93 | 8/8 | 6 | 8 |"
   ]
  }
 ],
 "metadata": {
  "language_info": {
   "name": "python"
  }
 },
 "nbformat": 4,
 "nbformat_minor": 2
}
