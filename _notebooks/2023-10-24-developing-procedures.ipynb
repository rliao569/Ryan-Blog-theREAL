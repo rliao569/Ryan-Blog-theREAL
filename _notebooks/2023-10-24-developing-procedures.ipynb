{
 "cells": [
  {
   "cell_type": "markdown",
   "metadata": {},
   "source": [
    "---\n",
    "layout: post\n",
    "title: Developing Procedures\n",
    "description: College Board 3.12 and 3.13\n",
    "toc: true\n",
    "comments: true\n",
    "type: hacks\n",
    "courses: { csp: {week: 9}}\n",
    "---"
   ]
  },
  {
   "cell_type": "markdown",
   "metadata": {},
   "source": [
    "## What is a procedure?\n",
    "A procedure is a named group of programming instructions with a purpose and is called to perform a task based on the commands. \n",
    "\n",
    "\n",
    "It is extremely important to name the procedure something that describes the purpose, method, or function because it makes it easier for others to read your code and for yourself when you revisit old code. Additionally, when there is an effefctively named procedure, it is much simpler to correct bugs and errors."
   ]
  },
  {
   "cell_type": "markdown",
   "metadata": {},
   "source": [
    "### Which code is better?\n",
    "<img src=\"https://media.discordapp.net//attachments/909575347773775953/1166199627083698217/namingprocedures.png?ex=65499f0a&is=65372a0a&hm=6a7d0bf546b51e54837e3cd8d5993063d9ab28ac4f19bd6e49b6a540424a30a5&\">"
   ]
  },
  {
   "cell_type": "markdown",
   "metadata": {},
   "source": [
    "### Hack 1: Naming Procedures\n",
    "Rename the procedure below with a name that better describes the purpose of the procedure. \n",
    "\n",
    "The procedure is currently just called \"procedure.\" It compares the current grade with the existing quiz grade and replaces the original score if the current is higher."
   ]
  },
  {
   "cell_type": "code",
   "execution_count": 2,
   "metadata": {},
   "outputs": [
    {
     "name": "stdout",
     "output_type": "stream",
     "text": [
      "Old quiz grade: 85\n",
      "New quiz grade: 90.0\n"
     ]
    }
   ],
   "source": [
    "def quizgradecalculator(quiz_grade, current_points, total_points):\n",
    "    # calculate current grade\n",
    "    current_grade = (current_points / total_points) * 100\n",
    "\n",
    "    if current_grade > quiz_grade:\n",
    "        quiz_grade = current_grade\n",
    "\n",
    "    return quiz_grade\n",
    "\n",
    "quiz_grade = 85  # Initial quiz grade\n",
    "current_points = 90  # Current points earned\n",
    "total_points = 100  # Total points for the quiz\n",
    "\n",
    "new_quiz_grade = quizgradecalculator(quiz_grade, current_points, total_points)\n",
    "\n",
    "print(f\"Old quiz grade: {quiz_grade}\")\n",
    "print(f\"New quiz grade: {new_quiz_grade}\")\n"
   ]
  },
  {
   "cell_type": "markdown",
   "metadata": {},
   "source": [
    "## Function Parameters\n",
    "A function can have one or more parameters that can be passed into the function as local variables to use in the procedural function. The variables that can be passed in the function are called parameters. The data passed in when the function is called are called arguments.\n",
    "\n",
    "\n",
    "Parameters: input values of a procedure\n",
    "\n",
    "\n",
    "Arguments: specify the parameter values when a procedure is called"
   ]
  },
  {
   "cell_type": "code",
   "execution_count": 3,
   "metadata": {},
   "outputs": [
    {
     "name": "stdout",
     "output_type": "stream",
     "text": [
      "length: 3\n",
      "width: 4\n",
      "6.0\n",
      "length: 6\n",
      "width: 8\n",
      "24.0\n",
      "length: 12\n",
      "width: 89\n",
      "534.0\n"
     ]
    }
   ],
   "source": [
    "def triangle_area(length, width): # parameters passed in two variables: length and width, returns area\n",
    "    area = 1/2 * length * width # calculates area from the length and width\n",
    "    print(\"length:\", length)\n",
    "    print(\"width:\", width)\n",
    "    return area # returns area\n",
    "\n",
    "# examples\n",
    "print(triangle_area(3, 4)) # the arguments here are 3 and 4, which becomes the parameters length and width respectively\n",
    "print(triangle_area(6, 8))\n",
    "print(triangle_area(12, 89))"
   ]
  },
  {
   "cell_type": "markdown",
   "metadata": {},
   "source": [
    "## Procedure Algorithm / How Procedures Work\n",
    "Remember that procedures are essentially a set of programming instructions, or lines of code, that accomplish a goal. When executed, each line of code is executed in order (step after step after step) to get to the goal."
   ]
  },
  {
   "cell_type": "markdown",
   "metadata": {},
   "source": [
    "### Regular code/Python"
   ]
  },
  {
   "cell_type": "code",
   "execution_count": 4,
   "metadata": {},
   "outputs": [
    {
     "name": "stdout",
     "output_type": "stream",
     "text": [
      "15.0\n"
     ]
    }
   ],
   "source": [
    "# Procedure called \"applyTax\" that applies a percent tax to a price\n",
    "def applyTax(price, percentTax): # When writing a procedure, first decide what parameters you will need to accomplish your goal\n",
    "    # Step 1: Calculate the amount taxed\n",
    "    taxAmount = price * percentTax/100\n",
    "\n",
    "    # Step 2: Add the amount taxed to the price to get the end amount\n",
    "    endAmount = price + taxAmount\n",
    "\n",
    "    return endAmount\n",
    "\n",
    "# Use procedure to apply a 50% tax to a price of $10\n",
    "cost = applyTax(10, 50)\n",
    "print(cost)"
   ]
  },
  {
   "cell_type": "markdown",
   "metadata": {},
   "source": [
    "### CollegeBoard Pseudo-Code\n",
    "- Note that the pseudo-code below has the exact same purpose as the actual code above. Ignore the breaks and spaces since they are used for formatting.\n",
    "> Differences between prseudo-code and Python:\n",
    "- Pseudo-code uses \"PROCEDURE\" instead of \"def\"\n",
    "- Pseudo-code uses \"<--\" instead of \"=\"\n",
    "- Pseudo-code uses \"{}\" instead of \":\" to mark where a procedure starts and ends\n",
    "<br>\n",
    "\n",
    "> Pseudo-code example <br>\n",
    "\n",
    "PROCEDURE applyTax (price, percentTax) <br>\n",
    "{ <br>\n",
    "&nbsp;&nbsp;&nbsp;&nbsp;taxAmount <-- price * percentTax/100 <br>\n",
    "&nbsp;&nbsp;&nbsp;&nbsp;endAmount <-- price + taxAmount <br>\n",
    "&nbsp;&nbsp;&nbsp;&nbsp;return endAmount <br>\n",
    "}"
   ]
  },
  {
   "cell_type": "markdown",
   "metadata": {},
   "source": [
    "### Hack 2: Robot Pseudo-Code\n",
    "<img src=\"https://media.discordapp.net/attachments/1143438030749847604/1165903186473783317/image.png?ex=65488af5&is=653615f5&hm=349a4cfef60546b6f85e59a2448ac85ed4fd0181d63f70456904909e46401d74&=\">\n",
    "\n",
    "> Instructions:\n",
    "- The blue triangle represents a robot that moves in a grid of squares. The tip of the triangle indicates where the robot is facing.\n",
    "- Write a procedure that allows the robot to make a detour around a block by moving to the left.\n",
    "\n",
    "> Commands\n",
    "- MOVE_FORWARD() - Moves the robot forward one square\n",
    "- MOVE_BACKWARD() - Moves the robot backward one square\n",
    "- ROTATE_LEFT() - Rotates the robot 90 degrees left\n",
    "- ROTATE_RIGHT() - Rotates the robot 90 degrees right"
   ]
  },
  {
   "cell_type": "markdown",
   "metadata": {},
   "source": [
    "> Your code here:\n",
    "\n",
    "PROCEDURE robotmove()\n",
    "{\n",
    "    ROTATE_LEFT()\n",
    "    MOVE_FORWARD()\n",
    "    ROTATE_RIGHT()\n",
    "    MOVE_FORWARD()\n",
    "    ROTATE_RIGHT()\n",
    "    MOVE_FORWARD()\n",
    "}"
   ]
  },
  {
   "cell_type": "markdown",
   "metadata": {},
   "source": [
    "## Procedure Return Values\n",
    "When a procedure is run, it executes a series of calculations or commands and at some point and needs to provide a useful result. The return statement is what allows us to return a useful value back to the calling code. The returns statement can return various types of values such as booleans, integers, strings, etc."
   ]
  },
  {
   "cell_type": "markdown",
   "metadata": {},
   "source": [
    "## Procedure Calls\n",
    "Calling: This involves specifying the function name followed by parentheses, and passing any required arguments inside the parentheses.\n",
    "\n",
    "\n",
    "When a function is called, the program control jumps to the function definition, and the statements inside the function are executed.\n",
    "After the function completes its task, the control returns to the point where the function was called."
   ]
  },
  {
   "cell_type": "markdown",
   "metadata": {},
   "source": [
    "### Hack 3: Create and Call a Procedure\n",
    "Define a function named calculate_grade that takes a student's score as a parameter and returns 'Pass' if the score is 50 or more, and 'Fail' otherwise."
   ]
  },
  {
   "cell_type": "code",
   "execution_count": 18,
   "metadata": {},
   "outputs": [
    {
     "name": "stdout",
     "output_type": "stream",
     "text": [
      "yippe\n"
     ]
    }
   ],
   "source": [
    "# your code here\n",
    "def calculate_grade(score):\n",
    "    if (score <= 50):\n",
    "        print(\"you suck\")\n",
    "    if (score > 50):\n",
    "        print(\"yippe\");\n",
    "\n",
    "score = calculate_grade(56)\n",
    "\n",
    "    "
   ]
  },
  {
   "cell_type": "markdown",
   "metadata": {},
   "source": [
    "# Homework\n",
    "## Instructions\n",
    "There are two total problems:\n",
    "1.  An easy regular code (Python) problem\n",
    "2.  A medium pseudo-code problem\n",
    "3. A hard regular code (Python) problem\n",
    "\n",
    "\n",
    "Completing question 1 and 2 gets you 0.9/1 if you do it correctly. Completing/attempting question 3, adding creativity, and adding good comments will potentially raise you above 0.9."
   ]
  },
  {
   "cell_type": "markdown",
   "metadata": {},
   "source": [
    "### Question 1\n",
    "Write a procedure to apply a percent discount to a set price. See the example about applying tax if you're stuck."
   ]
  },
  {
   "cell_type": "code",
   "execution_count": 1,
   "metadata": {},
   "outputs": [
    {
     "name": "stdout",
     "output_type": "stream",
     "text": [
      "51.0\n"
     ]
    }
   ],
   "source": [
    "# your code here\n",
    "def taxing(taxamount, totalprice):\n",
    "\n",
    "    taxamount = totalprice * .02 \n",
    "\n",
    "    return taxamount\n",
    "\n",
    "cost = taxing(10, 50) + 50\n",
    "print(cost)\n",
    "\n",
    "    "
   ]
  },
  {
   "cell_type": "markdown",
   "metadata": {},
   "source": [
    "### Question 2\n",
    "Create your own robot problem! Include a picture with a square grid to represent the map and triangle to represent the robot. Add a flag to a square to represent the end-point and a shaded-in block to represent a detour. Write a procedure in pseudo-code to move the robot from the start, past the detour, and to the end point."
   ]
  },
  {
   "cell_type": "markdown",
   "metadata": {},
   "source": [
    "Add your image here by adding the link between the \"\" and removing the comment formatting:\n",
    "<!-- <img src=\"\"> -->"
   ]
  },
  {
   "cell_type": "markdown",
   "metadata": {},
   "source": [
    "# your code here\n",
    "<img src=\"https://cdn.discordapp.com/attachments/1081856159855677464/1171001709187842099/zIwfXAAAAAElFTkSuQmCC.png?ex=655b1753&is=6548a253&hm=9b836df7809fa28808fcc993c7cfbce07ec656cbbab4517810b9260c255c2bea&\">\n",
    "\n",
    "# MOVE_FORWARD() - Moves the robot forward one square\n",
    "# MOVE_BACKWARD() - Moves the robot backward one square\n",
    "# ROTATE_LEFT() - Rotates the robot 90 degrees left\n",
    "# ROTATE_RIGHT() - Rotates the robot 90 degrees right\n",
    "\n",
    "# Objective is to get the robot to the gray box\n",
    "\n",
    "PROCEDURE graybox\n",
    "{\n",
    "    MOVE_FORWARD()\n",
    "    MOVE_FORWARD()\n",
    "    ROTATE_RIGHT()\n",
    "    MOVE_FORWARD()\n",
    "    MOVE_FORWARD()\n",
    "    MOVE_FORWARD()\n",
    "    MOVE_FORWARD()\n",
    "    ROTATE_LEFT()\n",
    "    MOVE_FORWARD()\n",
    "    MOVE_FORWARD()\n",
    "}\n",
    "\n",
    "#yippe"
   ]
  },
  {
   "cell_type": "markdown",
   "metadata": {},
   "source": [
    "### Question 3\n",
    "Create a program that asks for user input of an integer *n*, and return an array that contains all the prime numbers up to the number *n* (inclusive). Remember to use multiple different functions to better organize the code and increase efficiency."
   ]
  },
  {
   "cell_type": "code",
   "execution_count": 12,
   "metadata": {},
   "outputs": [
    {
     "name": "stdout",
     "output_type": "stream",
     "text": [
      "[2, 3, 5]\n",
      "[2, 3, 5, 7, 11]\n",
      "[2, 3, 5, 7, 11, 13, 17, 19, 23, 29, 31]\n"
     ]
    }
   ],
   "source": [
    "def primes(n):\n",
    "  # your code here\n",
    "    # An empty list to store prime numbers\n",
    "    primelist = []\n",
    "\n",
    "    # Iterates through numbers from 2 to n (inclusive) because 2 is the first prime number\n",
    "    for i in range(2, n+1):\n",
    "        # Assumes the number is prime until proven otherwise\n",
    "        is_prime = True\n",
    "\n",
    "        # Check for factors from 2 to the square root of i\n",
    "        for i2 in range(2, int(i**0.5) + 1):\n",
    "            # If i is divisible by i2, it is not a prime number\n",
    "            if i % i2 == 0:\n",
    "                is_prime = False # If the number is not prime, change is_prime to false\n",
    "                break  # Exit the loop if a factor is found\n",
    "\n",
    "        # If no factors were found, i is a prime number\n",
    "        if is_prime: #so if is_prime is still true, that means that the number is prime\n",
    "            # adding the prime number to the list\n",
    "            primelist.append(i)\n",
    "\n",
    "    # Return the list of prime numbers up to n\n",
    "    return primelist\n",
    "\n",
    "\n",
    "\n",
    "# tests\n",
    "print(primes(5))\n",
    "print(primes(12))\n",
    "print(primes(35))\n",
    "\n"
   ]
  }
 ],
 "metadata": {
  "kernelspec": {
   "display_name": "Python 3",
   "language": "python",
   "name": "python3"
  },
  "language_info": {
   "codemirror_mode": {
    "name": "ipython",
    "version": 3
   },
   "file_extension": ".py",
   "mimetype": "text/x-python",
   "name": "python",
   "nbconvert_exporter": "python",
   "pygments_lexer": "ipython3",
   "version": "3.10.12"
  }
 },
 "nbformat": 4,
 "nbformat_minor": 2
}
