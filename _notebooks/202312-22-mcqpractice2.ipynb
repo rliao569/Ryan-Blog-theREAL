{
 "cells": [
  {
   "cell_type": "markdown",
   "metadata": {},
   "source": [
    "---\n",
    "layout: post\n",
    "title: 2020 Practice exam MCQ\n",
    "description: j\n",
    "toc: true\n",
    "comments: true\n",
    "categories: [5.A, C4.1]\n",
    "courses: { csse: {week: 8}, csp: {week: 14, categories: [6.B]}, csa: {week: 9} }\n",
    "type: hacks\n",
    "---"
   ]
  },
  {
   "cell_type": "markdown",
   "metadata": {},
   "source": [
    "## Questions I got Wrong:\n",
    "\n",
    "Question 28: These questions are confusing for me. I don't really understand them too well, so I just guessed that all of the code segments worked. The correct answer was 1 and 3; 2 doesn't work because temp becoming alpha and alpha becoming temp don't really do anything and temp cannot represent both alpha and beta. \n",
    "\n",
    "Question 32: I got this one wrong because I thought you could do Sum - Min then simply do finalgrade divided by length. However the problem with this is that length is still the four scores and will divide by 4 rather than 3. D is the correct answer, as it's the exact same code except theres a -1 after LENGTH which corrects the issue of C. \n",
    "\n",
    "Question 37: This question took a lot of thinking for me, it was difficult to conceptualize. I saw the answer was to draw the line first then subtract two from endY and discovered it worked, I was overwhelmed with the other three and didn't notice that A was the right answer. \n",
    "\n",
    "Question 54: I thought the code worked, but the correct answer was to change line 5 to APPEND (newList, number) because the current code would put reverse the original order because it would be ordered from greatest to least.\n",
    "\n",
    "Question 58: This question was confusing to me, as I had blindsighted the fact that if all of the parameters were different, the code WOULD work as intended, even though it returns a false value. The answer is C, which messes up the intended purpose because the parameters in AnyPairs already meets criteria."
   ]
  },
  {
   "cell_type": "markdown",
   "metadata": {},
   "source": [
    "## Vocab\n",
    "\n",
    "- Lossless compression: data compression that allows original data to be exactly reconstructed from compressed data\n",
    "- Certificate Authority: an organization that acts to valudate identities and bind then to cryptographic key pairs with digital certificates."
   ]
  }
 ],
 "metadata": {
  "language_info": {
   "name": "python"
  }
 },
 "nbformat": 4,
 "nbformat_minor": 2
}
