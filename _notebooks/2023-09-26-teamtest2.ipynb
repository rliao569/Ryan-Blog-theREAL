{
 "cells": [
  {
   "cell_type": "code",
   "execution_count": 2,
   "metadata": {
    "vscode": {
     "languageId": "html"
    }
   },
   "outputs": [
    {
     "data": {
      "text/html": [
       "<div id='text'></div>\n",
       "<script>\n",
       "var a = 6\n",
       "var b = 6\n",
       "\n",
       "\n",
       "if (a>b){\n",
       "  document.getElementById('text').textContent = (\"a is greater than b. yipee\")\n",
       "}\n",
       "if (a<b){\n",
       "  document.getElementById('text').textContent = (\"a is less than b. boo hoo\")\n",
       "}\n",
       "if (a==b){\n",
       "  document.getElementById('text').textContent = (\"a is equal to b. equilibrium like from chemistry\")\n",
       "}\n",
       "\n",
       "</script>\n"
      ],
      "text/plain": [
       "<IPython.core.display.HTML object>"
      ]
     },
     "metadata": {},
     "output_type": "display_data"
    }
   ],
   "source": [
    "%%html\n",
    "<div id='text'></div>\n",
    "<script>\n",
    "var a = 6\n",
    "var b = 6\n",
    "\n",
    "\n",
    "if (a>b){\n",
    "  document.getElementById('text').textContent = (\"a is greater than b. yipee\")\n",
    "}\n",
    "if (a<b){\n",
    "  document.getElementById('text').textContent = (\"a is less than b. boo hoo\")\n",
    "}\n",
    "if (a==b){\n",
    "  document.getElementById('text').textContent = (\"a is equal to b. equilibrium like from chemistry\")\n",
    "}\n",
    "\n",
    "</script>"
   ]
  }
 ],
 "metadata": {
  "kernelspec": {
   "display_name": "Python 3",
   "language": "python",
   "name": "python3"
  },
  "language_info": {
   "codemirror_mode": {
    "name": "ipython",
    "version": 3
   },
   "file_extension": ".py",
   "mimetype": "text/x-python",
   "name": "python",
   "nbconvert_exporter": "python",
   "pygments_lexer": "ipython3",
   "version": "3.10.12"
  },
  "orig_nbformat": 4
 },
 "nbformat": 4,
 "nbformat_minor": 2
}
