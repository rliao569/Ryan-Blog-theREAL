{
 "cells": [
  {
   "cell_type": "markdown",
   "metadata": {},
   "source": [
    "---\n",
    "toc: false\n",
    "comments: true\n",
    "layout: post\n",
    "title: Review Ticket\n",
    "description: review ticket for pair showcase\n",
    "courses: { csp: {week: 3} }\n",
    "categories: [C3.5]\n",
    "type: tangibles\n",
    "---"
   ]
  },
  {
   "cell_type": "markdown",
   "metadata": {},
   "source": [
    "### Review Ticket for Pair Showcase\n",
    "\n",
    "## Linux and Interaction in VScode\n",
    "\n",
    "Within the past two weeks, I have learned so much about computer science. Navigating through WSL, including using cd and install commands, were completely new terms for me. After learning about these commands, I can now confidently navigate from terminal to my VScode, and even help myself and others when running into errors. \n",
    "\n",
    "For example, ls is used to list files and directories in a directory, helping users see what's available. cd lets you change your current working directory, making it easier to move between folders. mkdir creates new directories, while touch creates empty files. Commands like cp, mv, and rm allow for file manipulation—copying, moving, and deleting files, respectively. grep and find help search for specific content within files and locate files based on various criteria. ps and kill are invaluable for managing processes, enabling you to view running processes and terminate them if necessary. These commands, among many others, provide users with a versatile toolkit to efficiently perform tasks and manage their Linux systems from the command line.\n",
    "\n",
    "## Python and Interaction in VScode\n",
    "\n",
    "I made snake and added some color and control changes. For example, I differentiated the color of the snake and the food, as it was confusing to tell which was which. I also added a python quiz which runs through replit, and even got a working tetris. However, this tetris is blocked on school wifi. The python quiz was arguably the most helpful, because it taught me a lot of the basics from python, such as else if statements, print, and basic JS terminology. Over this weekend, I plan to work on a functionl tic tac toe game with emojies and animations. I want to make this tic tac toe game since styling the tic tac toe board will teach me even more Python Tricks. \n",
    "\n",
    "## Web Interaction in JS\n",
    "\n",
    "I made an interactive jQuery table as seen in the week 3 tangibles section. I'm also getting started on an JS output with API, and the API will be able to give wikipedia links to anything.\n",
    "\n",
    "## Hacks and Tangibles in Time Box\n",
    "\n",
    "In the \"CSP\" page of my website, there is a link leading to each of my projects listed above.\n",
    "\n",
    "## ChatGPT review: \n",
    "\n",
    "Future goals: elaborate on why you want to design the tic tac toe game, and how it will be done, and what you expect to learn from it.\n",
    "Visuals: Provide visuals in your review.\n",
    "\n",
    "## Peer Review \n",
    "\"Hi Ryan, I like how your review ticket is very specific and well organized. I think that you can use your python knowledge to expand beyond general projects. I suggest you to make projects that are more specific towards your interests and likings.\" -Ryan Liu Period 2 CSP"
   ]
  }
 ],
 "metadata": {
  "kernelspec": {
   "display_name": "Python 3",
   "language": "python",
   "name": "python3"
  },
  "language_info": {
   "codemirror_mode": {
    "name": "ipython",
    "version": 3
   },
   "file_extension": ".py",
   "mimetype": "text/x-python",
   "name": "python",
   "nbconvert_exporter": "python",
   "pygments_lexer": "ipython3",
   "version": "3.10.12"
  },
  "orig_nbformat": 4
 },
 "nbformat": 4,
 "nbformat_minor": 2
}
