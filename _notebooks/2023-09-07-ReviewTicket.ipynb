{
 "cells": [
  {
   "cell_type": "markdown",
   "metadata": {},
   "source": [
    "---\n",
    "toc: false\n",
    "comments: true\n",
    "layout: post\n",
    "title: Review Ticket\n",
    "description: review ticket for pair showcase\n",
    "courses: { csp: {week: 3} }\n",
    "categories: [C3.5]\n",
    "type: tangibles\n",
    "---"
   ]
  },
  {
   "cell_type": "markdown",
   "metadata": {},
   "source": [
    "### Review Ticket for Pair Showcase\n",
    "\n",
    "## Linux and Interaction in VScode\n",
    "\n",
    "Within the past two weeks, I have learned so much about computer science. Navigating through WSL, including using cd and install commands, were completely new terms for me. After learning about these commands, I can now confidently navigate from terminal to my VScode, and even help myself and others when running into errors. \n",
    "\n",
    "## Python and Interaction in VScode\n",
    "\n",
    "I made snake and added some color and control changes, I added a python quiz which runs through replit, and even got a working tetris. However, this tetris doesn't work on school wifi. The python quiz was arguably the most helpful, because it taught me a lot of the basics from python, such as else if statements, print, and basic JS terminology. Over this weekend, I plan to work on a functionl tic tac toe game with emojies and animations.\n",
    "\n",
    "## Web Interaction in JS\n",
    "\n",
    "I made an interactive jQuery table as seen in the week 3 tangibles section. \n",
    "\n",
    "## Hacks and Tangibles in Time Box\n",
    "\n",
    "In the \"CSP\" page of my website, there is a link leading to each of my projects listed above.\n",
    "\n",
    "## ChatGPT review: \n",
    "\n",
    "Future goals: elaborate on why you want to design the tic tac toe game, and how it will be done, and what you expect to learn from it.\n",
    "\n",
    "Visuals: Add screenshots or pictures to include the aspect of visuals in your review."
   ]
  }
 ],
 "metadata": {
  "kernelspec": {
   "display_name": "Python 3",
   "language": "python",
   "name": "python3"
  },
  "language_info": {
   "codemirror_mode": {
    "name": "ipython",
    "version": 3
   },
   "file_extension": ".py",
   "mimetype": "text/x-python",
   "name": "python",
   "nbconvert_exporter": "python",
   "pygments_lexer": "ipython3",
   "version": "3.10.12"
  },
  "orig_nbformat": 4
 },
 "nbformat": 4,
 "nbformat_minor": 2
}
