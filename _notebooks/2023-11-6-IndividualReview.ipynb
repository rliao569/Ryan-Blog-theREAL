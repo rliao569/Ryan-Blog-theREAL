{
 "cells": [
  {
   "cell_type": "markdown",
   "metadata": {},
   "source": [
    "---\n",
    "toc: true\n",
    "comments: true\n",
    "layout: post\n",
    "title: Individual Review\n",
    "description: Tri 1 \n",
    "type: tangibles\n",
    "courses: { csp: {week: 10} }\n",
    "---"
   ]
  },
  {
   "cell_type": "markdown",
   "metadata": {},
   "source": [
    "## Contributions to the Team Passion Project\n",
    ">> Frontend\n",
    "\n",
    "As one of the main frontend leads, I played a crucial role in shaping the visual and interactive aspects of our project, as well as helping the other frontend members Andrew and Daniel (later). I was responsible for coding prototypes of our game, which eventually became a significant part of the final product. My contribution extended beyond coding, as I actively participated in brainstorming sessions, offering creative ideas and solutions to enhance the user experience. I took pride in making the game visually appealing, ensuring smooth transitions, and maintaining a neat design throughout. Additionally, I took part in making the homepage, which serves as the first point of contact for the viewers, aimed to make a lasting impressioj. My dedication to the frontend helped create a polished and engaging product that users could enjoy and navigate effortlessly.\n",
    "\n",
    ">>Backend\n",
    "\n",
    "Through thorough testing of the Flask servers, I have played a crucial role in guaranteeing the reliability of our backend infrastructure. My dedication to ensuring that the frontend seamlessly connects and retrieves data from the backend has significantly enhanced the user experience, making our project more user-friendly and efficient. My expertise and commitment to these tasks have been pivotal in advancing our passion project, and keeping our team in line for success.\n",
    "\n",
    ">> DevOps and Deployments\n",
    "\n",
    "In our passion project's DevOps and Deployment phase, I played a pivotal role in ensuring a smooth and efficient transition from development to production. Collaboration with the backend team was paramount as we worked closely to make certain that all components functioned seamlessly within the production environment. To address any challenges that arose, effective communication was key, and we regularly engaged with our dedicated Scrum Master, Daniel. Together, we tackled issues and debugging tasks as a cohesive team, resolving obstacles swiftly and ensuring that our deployment process was as smooth as possible. This collaborative approach not only streamlined our project's deployment but also fostered a strong sense of teamwork and problem-solving in our development process.\n",
    "\n",
    "## Important and Favorite Commits\n",
    "\n",
    "[Commit on Oct 24](https://github.com/rliao569/Frontend-CSP/commit/e6d3750f5acead5e847c3f21bae5242ad0c3039c)\n",
    "> This commit fixed an issue that our frontend page had. Our CSS files caused issues on our front page, which interfered with the link to the game. By deleting this, our front page functioned properly. \n",
    "\n",
    "[Commit on Oct 25](https://github.com/rliao569/Frontend-CSP/commit/e572ba0013442b339199e328479183fe197d8c70)\n",
    "> This commit was for a slot machine which would use points obtained from palying the geoguessr game. You would roll for the great wonders of the world. I also attempted making an audio clip play once something was rolled. Although this wasn't utilized in the final product, I would love to use a similar concept in future projects.\n",
    "\n",
    "[Commit on Oct 25](https://github.com/rliao569/Frontend-CSP/commit/bf3874837067b817585c78a16b1af70bd8a48722)\n",
    "> Probably my most important commit. This was the code that made the basis of the game. It was, at its base form, a simple aim trainer game. We utilized this concept to our advantage by assigning the dot to specific areas on the map via libraries, which paired the images and the coordinates together. \n",
    "\n",
    "[Commit on Nov 1](https://github.com/rliao569/Frontend-CSP/commit/6a08fa369e72626e61a80fd5e4415878d5b15d33)\n",
    "> Around this time , the backend was finished, and everyone was focused on polishing frontend, and making the front page look nice. In this commit, I made a loading screen for the game, which was very important, as the game would break if you clicked on the button before the data from the backend successfully pulled. It also made transitioning from the home page to the game nicer. \n",
    "\n",
    "## Issues\n",
    "\n",
    "[Issue on Oct 25](https://github.com/rliao569/Frontend-CSP/issues/6)\n",
    "> This issue reminded the team to prioritize syncing the frontend and backend rather than focusing on individual contributions to the project, as this was the primary issue we had throughout the entire project. \n",
    "\n"
   ]
  },
  {
   "cell_type": "markdown",
   "metadata": {},
   "source": [
    "## College Board Quiz \n",
    "\n",
    ">> Questions I got Wrong\n",
    "\n",
    "Question 22: I couldn't understand the code's function too well, so I honestly just guessed. The option i selected, which was A, basically made the code say that if less than half of the days in the month were hot, then the month would be considered hot. Although this would be the right code for say, determining if the month was generally cold or wasn't hot, it wouldn't work in this scenario. The correct option is B, which makes the Boolean Expression evaluate true when there are more than half of the days in the month that are above 90 degrees.\n",
    "\n",
    "Question 33: I initially didn't understand this question at all. However, after getting some help from my teammates, it was a lot easier than I thought. When you run the program, if \"floor\" is greater than 10, then \"include\" is immediately true, and code ends. If \"floor\" is less than 10, then another T/F question is asked: if there are 3 bedrooms, then :include\" is true, and if not, then include is \"false.\" The code is a chain of true/false questions that will result in two different results depending on the outcome. \n",
    "\n",
    "Question 39: I initially thought that using open standards and protocols was something that allowed the latency of your messages to be lower, so that internet communication was more efficient. It is really just logic; if open standards and protocols were actually able to decrease your latency, then we would have less lag than we have with today's technology. \n",
    "\n",
    "Question 42: The difference between 128-bit adresses and 32-bit adresses wasn't clear to me until some google searches and checking my work. I now understand that every bit it goes up, it goes up 2^(n). This makes sense, as if the difference between 128 bit and 32 bit adressing was only by 96 times (which was the answer i put down), then in terms of the entire world and every single adress, that isn't a big difference. \n",
    "\n",
    "Question 46: It's not possible to make an algorithm that proves whether a program will enter an infinite loop. Although it is definitely possible to make predictions based on patterns, that pattern is not 100 percent guranteed in the 1 millionth loop, or the 1 billionth loop, etc. It would take infinite time to prove, making it impossible.\n",
    "\n",
    "Question 52: I knew that the second sequence worked, but I had thought that the third sequence did not work properly. I had thought that doing the sort first would somehow mess up the order of the final result, even though the resultant of both sequence II and III are the same.\n",
    "\n",
    "Question 65: my answers were B and C, but the correct answers were B and D. I was wrong about C, as having Y as as positive value would still provide a correct result eventually. B and D do not work, as they have a negative y value, and as \"count\" always increases, y will never equal count. \n",
    "\n",
    "## YOU NEED TO TALK ABOUT TEAMWORK AND COLLAB "
   ]
  },
  {
   "cell_type": "markdown",
   "metadata": {},
   "source": [
    "## Personal Reflection of Tri 1 "
   ]
  }
 ],
 "metadata": {
  "language_info": {
   "name": "python"
  }
 },
 "nbformat": 4,
 "nbformat_minor": 2
}
