{
 "cells": [
  {
   "cell_type": "markdown",
   "metadata": {},
   "source": [
    "---\n",
    "toc: true\n",
    "comments: true\n",
    "layout: post\n",
    "title: Individual Review\n",
    "description: Tri 1 \n",
    "type: tangibles\n",
    "courses: { csp: {week: 10} }\n",
    "---"
   ]
  },
  {
   "cell_type": "markdown",
   "metadata": {},
   "source": [
    "## Contributions to the Team Passion Project\n",
    ">> Frontend\n",
    "\n",
    "As one of the main frontend leads, I played a crucial role in shaping the visual and interactive aspects of our project, as well as helping the other frontend members Andrew and Daniel (later). I was responsible for coding prototypes of our game, which eventually became a significant part of the final product. My contribution extended beyond coding, as I actively participated in brainstorming sessions, offering creative ideas and solutions to enhance the user experience. I took pride in making the game visually appealing, ensuring smooth transitions, and maintaining a cohesive design throughout. Additionally, I had a hand in crafting the homepage, which served as the first point of contact for our users, aiming to make a lasting impression and provide a seamless navigation experience. My dedication to the frontend helped create a polished and engaging product that users could enjoy and navigate effortlessly.\n",
    "\n",
    ">>Backend\n",
    "\n",
    "Through meticulous testing of the Flask servers, I have played a crucial role in guaranteeing the robustness and reliability of our backend infrastructure. My dedication to ensuring that the frontend seamlessly connects and retrieves data from the backend has significantly enhanced the user experience, making our project more user-friendly and efficient. My expertise and commitment to these tasks have been pivotal in advancing our passion project, ensuring its functionality and performance align with our goals.\n",
    "\n",
    ">> DevOps and Deployments\n",
    "\n",
    "In our passion project's DevOps and Deployment phase, I played a pivotal role in ensuring a smooth and efficient transition from development to production. Collaboration with the backend team was paramount as we worked closely to make certain that all components functioned seamlessly within the production environment. To address any challenges that arose, effective communication was key, and we regularly engaged with our dedicated Scrum Master, Daniel. Together, we tackled issues and debugging tasks as a cohesive team, resolving obstacles swiftly and ensuring that our deployment process was as smooth as possible. This collaborative approach not only streamlined our project's deployment but also fostered a strong sense of teamwork and problem-solving in our development process.\n",
    "\n",
    "## Important and Favorite Commits\n",
    "\n",
    "[Commit on Oct 24](https://github.com/rliao569/Frontend-CSP/commit/e6d3750f5acead5e847c3f21bae5242ad0c3039c)\n",
    "> This commit fixed an issue that our frontend page had. Our CSS files caused issues on our front page, which interfered with the link to the game. By deleting this, our front page functioned properly. \n",
    "\n",
    "[Commit on Oct 25](https://github.com/rliao569/Frontend-CSP/commit/e572ba0013442b339199e328479183fe197d8c70)\n",
    "> This commit was for a slot machine which would use points obtained from palying the geoguessr game. You would roll for the great wonders of the world. I also attempted making an audio clip play once something was rolled. Although this wasn't utilized in the final product, I would love to use a similar concept in future projects.\n",
    "\n",
    "[Commit on Oct 25](https://github.com/rliao569/Frontend-CSP/commit/bf3874837067b817585c78a16b1af70bd8a48722)\n",
    "> Probably my most important commit. This was the code that made the basis of the game. It was, at its base form, a simple aim trainer game. We utilized this concept to our advantage by assigning the dot to specific areas on the map via libraries, which paired the images and the coordinates together. \n",
    "\n",
    "[Commit on Nov 1](https://github.com/rliao569/Frontend-CSP/commit/6a08fa369e72626e61a80fd5e4415878d5b15d33)\n",
    "> Around this time , the backend was finished, and everyone was focused on polishing frontend, and making the front page look nice. In this commit, I made a loading screen for the game, which was very important, as the game would break if you clicked on the button before the data from the backend successfully pulled. It also made transitioning from the home page to the game nicer. \n",
    "\n",
    "## Issues\n",
    "\n",
    "[Issue on Oct 25](https://github.com/rliao569/Frontend-CSP/issues/6)\n",
    "> This issue reminded the team to prioritize syncing the frontend and backend rather than focusing on individual contributions to the project, as this was the primary issue we had throughout the entire project. \n",
    "\n"
   ]
  },
  {
   "cell_type": "markdown",
   "metadata": {},
   "source": [
    "## College Board Quiz \n",
    "\n",
    "## YOU NEED TO TALK ABOUT TEAMWORK AND COLLAB "
   ]
  }
 ],
 "metadata": {
  "language_info": {
   "name": "python"
  }
 },
 "nbformat": 4,
 "nbformat_minor": 2
}
