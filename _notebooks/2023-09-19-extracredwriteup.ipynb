{
 "cells": [
  {
   "cell_type": "markdown",
   "metadata": {},
   "source": [
    "---\n",
    "toc: true\n",
    "comments: true\n",
    "layout: post\n",
    "title: write up\n",
    "description: write up about the CS meeting after school\n",
    "courses: { csp: {week: 5} }\n",
    "categories: [C5.1]\n",
    "type: tangibles\n",
    "---"
   ]
  },
  {
   "cell_type": "markdown",
   "metadata": {},
   "source": [
    "# Big Takeaways (CS related)\n",
    "It's a good idea to involve yourself around the CS community if you want to go into CS as a major in college. You can do so by spending time making and building your own projects. \n",
    "\n",
    "Be ahead of the game. Basically, take advantage of the newest resources and softwares that have been made recently. Once you learn how to use these softwares, it will provide a great boost towards your learning and the space between you and the others.\n",
    "\n",
    "You don't have to code something super intricate, just code something that's in line with your passions. When coding projects, make sure to deploy them and put them on a website so that others can view it with ease. \n",
    "\n",
    "# Big Takwaways (general)\n",
    "\n",
    "Many colleges are like lotteries and dice rolls. The more you apply to, the greater your chances in scoring a spot that you want. \n",
    "\n",
    "Extra Curriculars, especially teaching, within the CS field, looks very good on your resume. \n",
    "\n",
    "If you want, you can branch out and specialize in a more niche field than jsut computer science. This allows you to avoid extreme competition and also have a more specialized major.\n",
    "\n",
    "Do leadership things!\n",
    "\n",
    "Learning Scrum and Agile proficiently will help your work ethic in not only the field of CS, but in others such as Mechanical Engineering. \n",
    "\n",
    "# Reflection\n",
    "\n",
    "Although my planned major isn't computer science, it was very eye opening and instructive to see the entire process of learning CS for STEM college students, and how they overcame different tasks. Although most of the advice they gave was centered towards Computer Science, a lot of the advice could definitely be translated onto other majors, most similarly being engineering majors. \n",
    "\n",
    "\n",
    "\n",
    "\n"
   ]
  }
 ],
 "metadata": {
  "language_info": {
   "name": "python"
  },
  "orig_nbformat": 4
 },
 "nbformat": 4,
 "nbformat_minor": 2
}
