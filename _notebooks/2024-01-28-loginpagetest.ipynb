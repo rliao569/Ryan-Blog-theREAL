{
 "cells": [
  {
   "cell_type": "markdown",
   "metadata": {},
   "source": [
    "---\n",
    "comments: True\n",
    "layout: post\n",
    "toc: True\n",
    "title: Login Page test\n",
    "description: yes\n",
    "type: tangibles\n",
    "courses: { \"compsci\": { \"week\": 19 } }\n",
    "---"
   ]
  },
  {
   "cell_type": "code",
   "execution_count": 2,
   "metadata": {
    "vscode": {
     "languageId": "html"
    }
   },
   "outputs": [
    {
     "data": {
      "text/html": [
       "<div id=\"login\">\n",
       "    <p><label>\n",
       "        User ID:\n",
       "        <input type=\"text\" name=\"uid\" id=\"uid\" required>\n",
       "    </label></p>\n",
       "    <p><label>\n",
       "        Password:\n",
       "        <input type=\"password\" name=\"password\" id=\"password\" required>\n",
       "    </label></p>\n",
       "    <p>\n",
       "        <button class=\"button\" type=\"submit\">Log in</button>\n",
       "    </p>\n",
       "</div>\n",
       "<script>\n",
       "    document.getElementById('login').addEventListener('submit', function(event) {\n",
       "             event.preventDefault(); \n",
       "             const uid = document.getElementById('uid').value;\n",
       "             const password = document.getElementById('password').value;\n",
       "             const loginData = {\n",
       "                 uid: uid,\n",
       "                 password: password\n",
       "             };\n",
       "             fetch('http://172.30.72.13:8086/api/users/', { // use your own port please\n",
       "                 method: 'POST',\n",
       "                 headers: {\n",
       "                     'Content-Type': 'application/json'\n",
       "                 },\n",
       "                 body: JSON.stringify(loginData)\n",
       "             })\n",
       "             .then(response => {\n",
       "                 if (response.ok) {\n",
       "                     return response.json();\n",
       "                 } else {\n",
       "                     if (response.status === 401) {\n",
       "                         throw new Error('Wrong username or password. Please retype.');\n",
       "                     } else if (response.status === 404) {\n",
       "                         throw new Error('Username or password not found. Please register first.');\n",
       "                     } else {\n",
       "                         throw new Error('Login failed');\n",
       "                     }\n",
       "                 }\n",
       "             })\n",
       "             .then(data => {\n",
       "                 console.log('it worked!');\n",
       "             })\n",
       "             .catch(error => {\n",
       "                 console.error('Error:', error.message);\n",
       "                 alert(error.message);\n",
       "             });\n",
       "         });\n",
       "     </script>\n"
      ],
      "text/plain": [
       "<IPython.core.display.HTML object>"
      ]
     },
     "metadata": {},
     "output_type": "display_data"
    }
   ],
   "source": [
    "%%HTML\n",
    "<div id=\"login\">\n",
    "    <p><label>\n",
    "        User ID:\n",
    "        <input type=\"text\" name=\"uid\" id=\"uid\" required>\n",
    "    </label></p>\n",
    "    <p><label>\n",
    "        Password:\n",
    "        <input type=\"password\" name=\"password\" id=\"password\" required>\n",
    "    </label></p>\n",
    "    <p>\n",
    "        <button class=\"button\" type=\"submit\">Log in</button>\n",
    "    </p>\n",
    "</div>\n",
    "<script>\n",
    "    document.getElementById('login').addEventListener('submit', function(event) {\n",
    "             event.preventDefault(); \n",
    "             const uid = document.getElementById('uid').value;\n",
    "             const password = document.getElementById('password').value;\n",
    "             const loginData = {\n",
    "                 uid: uid,\n",
    "                 password: password\n",
    "             };\n",
    "             fetch('http://172.30.72.13:8086/api/users/', { // use your own port please\n",
    "                 method: 'POST',\n",
    "                 headers: {\n",
    "                     'Content-Type': 'application/json'\n",
    "                 },\n",
    "                 body: JSON.stringify(loginData)\n",
    "             })\n",
    "             .then(response => {\n",
    "                 if (response.ok) {\n",
    "                     return response.json();\n",
    "                 } else {\n",
    "                     if (response.status === 401) {\n",
    "                         throw new Error('Wrong username or password. Please retype.');\n",
    "                     } else if (response.status === 404) {\n",
    "                         throw new Error('Username or password not found. Please register first.');\n",
    "                     } else {\n",
    "                         throw new Error('Login failed');\n",
    "                     }\n",
    "                 }\n",
    "             })\n",
    "             .then(data => {\n",
    "                 console.log('it worked!');\n",
    "             })\n",
    "             .catch(error => {\n",
    "                 console.error('Error:', error.message);\n",
    "                 alert(error.message);\n",
    "             });\n",
    "         });\n",
    "     </script>"
   ]
  }
 ],
 "metadata": {
  "kernelspec": {
   "display_name": "Python 3",
   "language": "python",
   "name": "python3"
  },
  "language_info": {
   "codemirror_mode": {
    "name": "ipython",
    "version": 3
   },
   "file_extension": ".py",
   "mimetype": "text/x-python",
   "name": "python",
   "nbconvert_exporter": "python",
   "pygments_lexer": "ipython3",
   "version": "3.10.12"
  }
 },
 "nbformat": 4,
 "nbformat_minor": 2
}
