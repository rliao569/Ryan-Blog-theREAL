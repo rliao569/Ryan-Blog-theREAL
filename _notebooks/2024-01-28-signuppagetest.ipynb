{
 "cells": [
  {
   "cell_type": "markdown",
   "metadata": {},
   "source": [
    "---\n",
    "layout: post\n",
    "title: signup page test\n",
    "description: e\n",
    "toc: true\n",
    "comments: true\n",
    "categories: [5.A, C4.1]\n",
    "courses: { csp: {week: 19 }}\n",
    "type: tangibles\n",
    "---"
   ]
  },
  {
   "cell_type": "markdown",
   "metadata": {},
   "source": [
    "%%HTML\n",
    "<div id=\"signup\">\n",
    "  <p><label>\n",
    "      Name:\n",
    "      <input type=\"text\" name=\"name\" id=\"name\" required>\n",
    "  </label></p>\n",
    "  <p><label>\n",
    "      User ID:\n",
    "      <input type=\"text\" name=\"uid\" id=\"uid\" required>\n",
    "  </label></p>\n",
    "  <p><label>\n",
    "      Password:\n",
    "      <input type=\"password\" name=\"password\" id=\"password\" required>\n",
    "  </label></p>\n",
    "  <p>\n",
    "      <button class=\"button\" type=\"submit\" onclick=\"signup()\" >Sign Up</button>\n",
    "  </p>\n",
    "</div>\n",
    "\n",
    "<script>\n",
    "  function signup() {\n",
    "       var name = document.getElementById('name').value;\n",
    "       var uid = document.getElementById('uid').value;\n",
    "       var password = document.getElementById('password').value;\n",
    "       var requestBody = {\n",
    "           name: name,\n",
    "           uid: uid,\n",
    "           password: password\n",
    "       };\n",
    "       fetch('http://127.0.0.1:8086/api/users/create', { //use your own port\n",
    "           method: 'POST',\n",
    "           headers: {\n",
    "               'Content-Type': 'application/json',\n",
    "           },\n",
    "           body: JSON.stringify(requestBody),\n",
    "       })\n",
    "       .then(response => response.json())\n",
    "       .then(data => {\n",
    "           console.log('Sign Up successful:', data);\n",
    "           window.location.href = \"http://localhost:4200/Ryan-Blog-theREAL//5.a/c4.1/2024/01/28/loginpagetest_IPYNB_2_.html\";\n",
    "       })\n",
    "       .catch(error => {\n",
    "           console.error('Error:', error);\n",
    "       });\n",
    "   }\n",
    "</script>\n"
   ]
  }
 ],
 "metadata": {
  "kernelspec": {
   "display_name": "Python 3",
   "language": "python",
   "name": "python3"
  },
  "language_info": {
   "codemirror_mode": {
    "name": "ipython",
    "version": 3
   },
   "file_extension": ".py",
   "mimetype": "text/x-python",
   "name": "python",
   "nbconvert_exporter": "python",
   "pygments_lexer": "ipython3",
   "version": "3.10.12"
  }
 },
 "nbformat": 4,
 "nbformat_minor": 2
}
