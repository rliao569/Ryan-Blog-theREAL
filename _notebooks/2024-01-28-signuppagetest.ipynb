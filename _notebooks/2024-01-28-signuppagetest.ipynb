{
 "cells": [
  {
   "cell_type": "markdown",
   "metadata": {},
   "source": [
    "---\n",
    "comments: True\n",
    "layout: post\n",
    "toc: True\n",
    "title: Signup Page test\n",
    "description: yes\n",
    "type: tangibles\n",
    "courses: { \"compsci\": { \"week\": 19 } }\n",
    "---"
   ]
  },
  {
   "cell_type": "code",
   "execution_count": null,
   "metadata": {},
   "outputs": [],
   "source": [
    "class _Create(Resource):\n",
    "        def post(self):\n",
    "            body = request.get_json()\n",
    "            name = body.get('name')\n",
    "            uid = body.get('uid')\n",
    "            password = body.get('password')\n",
    "            if uid is not None:\n",
    "                new_user = User(name=name, uid=uid, password=password)\n",
    "            user = new_user.create()\n",
    "            if user:\n",
    "                return user.read()\n",
    "            return {'uid is possibly a dupe'}, 400\n",
    " api.add_resource(_Create, '/create')"
   ]
  },
  {
   "cell_type": "code",
   "execution_count": null,
   "metadata": {},
   "outputs": [],
   "source": [
    "%%HTML\n",
    "<div id=\"signup\">\n",
    "  <p><label>\n",
    "      Name:\n",
    "      <input type=\"text\" name=\"name\" id=\"name\" required>\n",
    "  </label></p>\n",
    "  <p><label>\n",
    "      User ID:\n",
    "      <input type=\"text\" name=\"uid\" id=\"uid\" required>\n",
    "  </label></p>\n",
    "  <p><label>\n",
    "      Password:\n",
    "      <input type=\"password\" name=\"password\" id=\"password\" required>\n",
    "  </label></p>\n",
    "  <p>\n",
    "      <button class=\"button\" type=\"submit\" onclick=\"signup()\" >Sign Up</button>\n",
    "  </p>\n",
    "</div>\n",
    "\n",
    "<script>\n",
    "  function signup() {\n",
    "       var name = document.getElementById('name').value;\n",
    "       var uid = document.getElementById('uid').value;\n",
    "       var password = document.getElementById('password').value;\n",
    "       var requestBody = {\n",
    "           name: name,\n",
    "           uid: uid,\n",
    "           password: password\n",
    "       };\n",
    "       fetch('http://localhost:8086/api/users/create', { //use your own port\n",
    "           method: 'POST',\n",
    "           headers: {\n",
    "               'Content-Type': 'application/json',\n",
    "           },\n",
    "           body: JSON.stringify(requestBody),\n",
    "       })\n",
    "       .then(response => response.json())\n",
    "       .then(data => {\n",
    "           console.log('Sign Up successful:', data);\n",
    "           window.location.href = \"{{site.baseurl}}/login\";\n",
    "       })\n",
    "       .catch(error => {\n",
    "           console.error('Error:', error);\n",
    "       });\n",
    "   }\n",
    "</script>\n"
   ]
  }
 ],
 "metadata": {
  "language_info": {
   "name": "python"
  }
 },
 "nbformat": 4,
 "nbformat_minor": 2
}
