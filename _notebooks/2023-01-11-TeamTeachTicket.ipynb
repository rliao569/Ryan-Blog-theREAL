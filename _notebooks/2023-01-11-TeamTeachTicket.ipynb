{
 "cells": [
  {
   "cell_type": "markdown",
   "metadata": {},
   "source": [
    "---\n",
    "toc: true\n",
    "comments: true\n",
    "layout: post\n",
    "title: Team Teach Review Ticket \n",
    "type: tangibles\n",
    "courses: { csp: {week: 16} }\n",
    "---"
   ]
  },
  {
   "cell_type": "markdown",
   "metadata": {},
   "source": [
    "\n",
    "# Team Teach Chart\n",
    "\n",
    "| ------- | Score, Grader Eval  | Runtime | Extras | Key Indicators |\n",
    "| ------- | -------- | ------- |  ------- | -------- |\n",
    "| The Internet |  .93 Provides a Few Examples   | b | c | d |\n",
    "| Routing and Computing | us  | b | us | d |\n",
    "| Beneficial and Harmful Effects | .91 great explanations could have gone slightly more in depth | b | c | d |\n",
    "| Digital Divide | .93 detailed | b | c | d |\n",
    "Computing Bias | .98 All questions answered with detail and good examples  | b | c | d |\n",
    "| Crowdsourcing | .93 Work is original and detailed | b | c | d |\n",
    "|Legal Ethical Concerns |  .95 Kahoot Quiz Curve, 2nd Place | b | c | d |\n",
    "| Safe Computing | .9 Late | b | c | d |\n",
    "| CB Quiz |  57/67 | b | c | d |\n",
    "\n",
    "| ----- | Totals\t| Median Score:\t | Number complete:\t | Extra effort count:  |\tKey tangible assets count: |\n",
    "| ---- | ----- | ----- | ----- | ------ | ----- | \n",
    "| ---- | a | .93 | 9/9 | d | e |"
   ]
  },
  {
   "cell_type": "markdown",
   "metadata": {},
   "source": []
  }
 ],
 "metadata": {
  "language_info": {
   "name": "python"
  }
 },
 "nbformat": 4,
 "nbformat_minor": 2
}
